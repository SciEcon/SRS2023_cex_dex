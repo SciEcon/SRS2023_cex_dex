{
  "nbformat": 4,
  "nbformat_minor": 0,
  "metadata": {
    "colab": {
      "provenance": []
    },
    "kernelspec": {
      "name": "python3",
      "display_name": "Python 3"
    },
    "language_info": {
      "name": "python"
    }
  },
  "cells": [
    {
      "cell_type": "code",
      "execution_count": 1,
      "metadata": {
        "id": "01ZYq5l9A5lA"
      },
      "outputs": [],
      "source": [
        "# CEX\n",
        "import pandas as pd\n",
        "\n",
        "\n",
        "df1 = pd.read_csv('https://raw.githubusercontent.com/SciEcon/SRS2023_cex_dex/main/data/Queried_Data/cex_inflow.csv')\n",
        "df2 = pd.read_csv('https://raw.githubusercontent.com/SciEcon/SRS2023_cex_dex/main/data/Queried_Data/cex_outflow.csv')\n",
        "\n",
        "\n",
        "merged_df = df1.copy()\n",
        "merged_df['USD_VOLUMES'] += df2['USD_VOLUMES']\n",
        "merged_df['FEES'] += df2['FEES']\n",
        "merged_df['TOTAL_TRANSACTIONS'] += df2['TOTAL_TRANSACTIONS']\n",
        "\n",
        "\n",
        "merged_df.to_csv('cex_process.csv', index=False)"
      ]
    },
    {
      "cell_type": "code",
      "source": [
        "# DEX\n",
        "import pandas as pd\n",
        "\n",
        "\n",
        "df1 = pd.read_csv('https://raw.githubusercontent.com/SciEcon/SRS2023_cex_dex/main/data/Queried_Data/dex_inflow.csv')\n",
        "df2 = pd.read_csv('https://raw.githubusercontent.com/SciEcon/SRS2023_cex_dex/main/data/Queried_Data/dex_outflow.csv')\n",
        "\n",
        "\n",
        "merged_df = df1.copy()\n",
        "merged_df['USD_VOLUMES'] += df2['USD_VOLUMES']\n",
        "merged_df['FEES'] += df2['FEES']\n",
        "merged_df['TOTAL_TRANSACTIONS'] += df2['TOTAL_TRANSACTIONS']\n",
        "\n",
        "\n",
        "merged_df.to_csv('dex_process.csv', index=False)"
      ],
      "metadata": {
        "id": "0ngZAid8CNpz"
      },
      "execution_count": 2,
      "outputs": []
    }
  ]
}