{
 "cells": [
  {
   "cell_type": "code",
   "execution_count": null,
   "id": "ad138056-a27a-401f-9475-2d825503650b",
   "metadata": {},
   "outputs": [],
   "source": [
    "WITH eth_price AS (\n",
    "  SELECT\n",
    "    DATE_TRUNC('day', a.hour) AS day,\n",
    "    AVG(a.price) AS price_usd\n",
    "  FROM ethereum.core.fact_hourly_token_prices a\n",
    "  WHERE a.symbol = 'WETH'\n",
    "  GROUP BY 1\n",
    "),\n",
    "transfers AS (\n",
    "  SELECT\n",
    "    DATE_TRUNC('day', t.block_timestamp) AS date,\n",
    "    t.origin_from_address,\n",
    "    t.amount_usd,\n",
    "    ft.tx_fee * ep.price_usd AS fee_usd\n",
    "  FROM ethereum.core.ez_token_transfers t\n",
    "  JOIN ethereum.core.fact_transactions ft ON t.tx_hash = ft.tx_hash\n",
    "  JOIN ethereum.core.dim_labels l_from ON t.from_address = l_from.address\n",
    "  JOIN eth_price ep ON DATE_TRUNC('day', t.block_timestamp) = ep.day\n",
    "  WHERE t.symbol = 'WETH'\n",
    "    AND t.amount_usd IS NOT NULL\n",
    "    AND t.amount_usd > 0\n",
    "    AND ft.status = 'SUCCESS'\n",
    "    AND l_from.label_type = 'dex'\n",
    "    AND t.block_timestamp >= '2022-10-11' AND t.block_timestamp <= '2022-12-12'\n",
    "),\n",
    "transfer_summary AS (\n",
    "  SELECT\n",
    "    date,\n",
    "    origin_from_address,\n",
    "    SUM(CASE WHEN amount_usd > 0 THEN amount_usd ELSE 0 END) AS inflow,\n",
    "    SUM(CASE WHEN amount_usd < 0 THEN amount_usd ELSE 0 END) AS outflow,\n",
    "    SUM(fee_usd) AS total_fees,\n",
    "    COUNT(*) AS total_transactions\n",
    "  FROM transfers\n",
    "  GROUP BY date, origin_from_address\n",
    "),\n",
    "aggregated_summary AS (\n",
    "  SELECT\n",
    "    date,\n",
    "    COUNT(DISTINCT date) AS total_dates,\n",
    "    SUM(inflow) AS total_inflow,\n",
    "    SUM(outflow) AS total_outflow,\n",
    "    SUM(total_fees) AS total_fees,\n",
    "    SUM(total_transactions) AS total_transactions\n",
    "  FROM transfer_summary\n",
    "  GROUP BY date\n",
    ")\n",
    "SELECT\n",
    "  date,\n",
    "  total_inflow + total_outflow AS total_volume,\n",
    "  total_fees,\n",
    "  total_transactions\n",
    "FROM aggregated_summary\n",
    "ORDER BY date;\n"
   ]
  }
 ],
 "metadata": {
  "kernelspec": {
   "display_name": "Python 3 (ipykernel)",
   "language": "python",
   "name": "python3"
  },
  "language_info": {
   "codemirror_mode": {
    "name": "ipython",
    "version": 3
   },
   "file_extension": ".py",
   "mimetype": "text/x-python",
   "name": "python",
   "nbconvert_exporter": "python",
   "pygments_lexer": "ipython3",
   "version": "3.9.7"
  }
 },
 "nbformat": 4,
 "nbformat_minor": 5
}
